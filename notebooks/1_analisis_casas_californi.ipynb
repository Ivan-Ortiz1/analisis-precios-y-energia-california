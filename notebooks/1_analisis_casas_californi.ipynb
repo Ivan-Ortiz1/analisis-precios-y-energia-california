{
 "cells": [
  {
   "cell_type": "code",
   "execution_count": null,
   "id": "063a3dbe",
   "metadata": {},
   "outputs": [],
   "source": [
    "import pandas as pd\n",
    "import numpy as np\n",
    "import matplotlib.pyplot as plt\n",
    "import seaborn as sns\n",
    "\n",
    "pd.set_option('display.max_columns', None)\n",
    "sns.set(style=\"whitegrid\", palette=\"viridis\")\n",
    "\n",
    "df = pd.read_csv(\"../data/raw/housing.csv\")\n",
    "\n",
    "df.head()"
   ]
  },
  {
   "cell_type": "code",
   "execution_count": null,
   "id": "16b261ed",
   "metadata": {},
   "outputs": [],
   "source": [
    "df.rename(columns={\n",
    "    'longitude': 'longitud',\n",
    "    'latitude': 'latitud',\n",
    "    'housing_median_age': 'edad_media_vivienda',\n",
    "    'total_rooms': 'total_habitaciones',\n",
    "    'total_bedrooms': 'total_dormitorios',\n",
    "    'population': 'poblacion',\n",
    "    'households': 'hogares',\n",
    "    'median_income': 'ingreso_medio',\n",
    "    'median_house_value': 'valor_medio_vivienda',\n",
    "    'ocean_proximity': 'proximidad_oceano'\n",
    "}, inplace=True)\n",
    "\n",
    "df.head()"
   ]
  },
  {
   "cell_type": "code",
   "execution_count": null,
   "id": "4c2cb958",
   "metadata": {},
   "outputs": [],
   "source": [
    "# Mapeo de nombres originales a nombres en español\n",
    "mapa_proximidad = {\n",
    "    \"NEAR BAY\": \"Cerca de la bahía\",\n",
    "    \"<1H OCEAN\": \"A menos de 1 hora del océano\",\n",
    "    \"INLAND\": \"Tierra adentro\",\n",
    "    \"NEAR OCEAN\": \"Cerca del océano\",\n",
    "    \"ISLAND\": \"Isla\"\n",
    "}\n",
    "\n",
    "# Aplicar el cambio\n",
    "df[\"proximidad_oceano\"] = df[\"proximidad_oceano\"].replace(mapa_proximidad)\n",
    "\n",
    "# Verificar resultado\n",
    "df[\"proximidad_oceano\"].value_counts()\n"
   ]
  },
  {
   "cell_type": "code",
   "execution_count": null,
   "id": "6d316764",
   "metadata": {},
   "outputs": [],
   "source": [
    "import matplotlib.pyplot as plt\n",
    "\n",
    "df[\"proximidad_oceano\"].value_counts().plot(\n",
    "    kind=\"bar\", color=\"skyblue\", title=\"Distribución de proximidad al océano\"\n",
    ")\n",
    "plt.xlabel(\"Categoría de proximidad\")\n",
    "plt.ylabel(\"Cantidad de zonas\")\n",
    "plt.show()\n"
   ]
  },
  {
   "cell_type": "code",
   "execution_count": null,
   "id": "26445083",
   "metadata": {},
   "outputs": [],
   "source": [
    "df.isnull().sum()"
   ]
  },
  {
   "cell_type": "code",
   "execution_count": null,
   "id": "a405f291",
   "metadata": {},
   "outputs": [],
   "source": [
    "df[\"total_dormitorios\"].fillna(df[\"total_dormitorios\"].median(), inplace=True)\n",
    "df.isnull().sum()\n"
   ]
  },
  {
   "cell_type": "code",
   "execution_count": 50,
   "id": "569e3d14",
   "metadata": {},
   "outputs": [],
   "source": [
    "df[\"habitaciones_por_hogar\"] = df[\"total_habitaciones\"] / df[\"hogares\"]\n",
    "df[\"dormitorios_por_hogar\"] = df[\"total_habitaciones\"] / df[\"hogares\"]\n",
    "df[\"habitaciones_por_persona\"] = df[\"total_habitaciones\"] / df[\"poblacion\"]"
   ]
  },
  {
   "cell_type": "code",
   "execution_count": 52,
   "id": "f50bde06",
   "metadata": {},
   "outputs": [],
   "source": [
    "df = df[df[\"valor_medio_vivienda\"] < 500000]"
   ]
  },
  {
   "cell_type": "code",
   "execution_count": null,
   "id": "5d9cc73c",
   "metadata": {},
   "outputs": [],
   "source": [
    "df.info()\n",
    "df.describe()"
   ]
  },
  {
   "cell_type": "code",
   "execution_count": null,
   "id": "6f00526b",
   "metadata": {},
   "outputs": [],
   "source": [
    "df.hist(figsize=(12,8), bins=30, color='skyblue', edgecolor='black')\n",
    "plt.suptitle(\"Distribucion de las variables del dataset\", fontsize=16)\n",
    "plt.show()\n"
   ]
  },
  {
   "cell_type": "markdown",
   "id": "e86fb635",
   "metadata": {},
   "source": [
    "| Variable                 | Descripción                                                             | Tipo de dato | Observaciones                                  |\n",
    "| ------------------------ | ----------------------------------------------------------------------- | ------------ | ---------------------------------------------- |\n",
    "| **longitud**             | Coordenada geográfica (negativa por estar en el hemisferio occidental). | float        | Rango entre -124.35 y -114.31.                 |\n",
    "| **latitud**              | Coordenada geográfica (posición norte-sur).                             | float        | Rango entre 32.54 y 41.95.                     |\n",
    "| **edad_media_vivienda**  | Edad promedio de las viviendas.                                         | float        | Promedio: 28.6 años, máx.: 52.                 |\n",
    "| **total_habitaciones**   | Número total de habitaciones por zona.                                  | float        | Promedio: 2.635, máx.: 39.320 (outliers).      |\n",
    "| **total_dormitorios**    | Total de dormitorios por zona.                                          | float        | Algunos valores faltantes.                     |\n",
    "| **poblacion**            | Número total de habitantes en la zona.                                  | float        | Promedio: 1.425, máx.: 35.682 (outliers).      |\n",
    "| **hogares**              | Total de hogares por zona.                                              | float        | Promedio: 499 hogares.                         |\n",
    "| **ingreso_medio**        | Ingreso medio expresado en decenas de miles de dólares.                 | float        | Promedio: 3.87 → ≈ USD 38.700 anuales.         |\n",
    "| **valor_medio_vivienda** | Valor promedio de las viviendas (en dólares).                           | float        | Promedio: USD 206.855. Límite máximo: 500.001. |\n",
    "| **proximidad_oceano**    | Categoría geográfica según cercanía al mar.                             | object       | Variable categórica.                           |\n"
   ]
  },
  {
   "cell_type": "code",
   "execution_count": null,
   "id": "c0562b9f",
   "metadata": {},
   "outputs": [],
   "source": [
    "sns.pairplot(df.sample(500), diag_kind=\"kde\")\n",
    "plt.suptitle(\"Relaciones entre variables principales\", y=1.02)\n",
    "plt.show()\n"
   ]
  },
  {
   "cell_type": "code",
   "execution_count": null,
   "id": "5904c10e",
   "metadata": {},
   "outputs": [],
   "source": [
    "plt.figure(figsize=(10,8))\n",
    "sns.heatmap(df.corr(numeric_only=True), annot=True, cmap=\"coolwarm\", fmt=\".2f\")\n",
    "plt.title(\"Mapa de Correlación entre Variables Numéricas\")\n",
    "plt.show()\n"
   ]
  },
  {
   "cell_type": "code",
   "execution_count": null,
   "id": "c0eae39e",
   "metadata": {},
   "outputs": [],
   "source": [
    "import matplotlib.pyplot as plt\n",
    "import seaborn as sns\n",
    "\n",
    "columnas_numericas = df.select_dtypes(include=[\"float64\", \"int64\"]).columns\n",
    "\n",
    "for col in columnas_numericas:\n",
    "    plt.figure(figsize=(6,4))\n",
    "    sns.histplot(df[col], kde=True, color=\"skyblue\")\n",
    "    plt.title(f\"Distribución de {col}\")\n",
    "    plt.show()\n"
   ]
  },
  {
   "cell_type": "code",
   "execution_count": null,
   "id": "e7270069",
   "metadata": {},
   "outputs": [],
   "source": [
    "df.info()\n",
    "df.describe()\n"
   ]
  },
  {
   "cell_type": "code",
   "execution_count": null,
   "id": "890f00f8",
   "metadata": {},
   "outputs": [],
   "source": [
    "correlaciones = df.corr(numeric_only=True)[\"valor_medio_vivienda\"].sort_values(ascending=False)\n",
    "correlaciones\n"
   ]
  },
  {
   "cell_type": "code",
   "execution_count": null,
   "id": "b59a97b9",
   "metadata": {},
   "outputs": [],
   "source": [
    "plt.figure(figsize=(8,6))\n",
    "sns.scatterplot(x=\"ingreso_medio\", y=\"valor_medio_vivienda\", data=df, alpha=0.5)\n",
    "plt.title(\"Relacion entre ingreso medio y valor medio de vivienda\")\n",
    "plt.xlabel(\"Ingreso medio (USD)\")\n",
    "plt.ylabel(\"Valor medio de vivienda (USD)\")\n",
    "plt.show()"
   ]
  },
  {
   "cell_type": "code",
   "execution_count": null,
   "id": "2b3ff08a",
   "metadata": {},
   "outputs": [],
   "source": [
    "plt.figure(figsize=(10, 8))\n",
    "sns.scatterplot(\n",
    "    x=\"longitud\", y=\"latitud\",\n",
    "    hue=\"valor_medio_vivienda\", palette=\"coolwarm\",\n",
    "    data=df, alpha=0.5\n",
    ")\n",
    "\n",
    "plt.title(\"Distribucion geografica del valor medio de vivienda en California\")\n",
    "plt.show()"
   ]
  },
  {
   "cell_type": "code",
   "execution_count": null,
   "id": "da97254f",
   "metadata": {},
   "outputs": [],
   "source": [
    "sns.boxplot(x=\"proximidad_oceano\", y=\"valor_medio_vivienda\", data=df)\n",
    "plt.title(\"Valor medio de vivienda segun proximidad al oceano\")\n",
    "plt.xticks(rotation=30)\n",
    "plt.show()"
   ]
  }
 ],
 "metadata": {
  "kernelspec": {
   "display_name": "Python 3",
   "language": "python",
   "name": "python3"
  },
  "language_info": {
   "codemirror_mode": {
    "name": "ipython",
    "version": 3
   },
   "file_extension": ".py",
   "mimetype": "text/x-python",
   "name": "python",
   "nbconvert_exporter": "python",
   "pygments_lexer": "ipython3",
   "version": "3.12.1"
  }
 },
 "nbformat": 4,
 "nbformat_minor": 5
}
