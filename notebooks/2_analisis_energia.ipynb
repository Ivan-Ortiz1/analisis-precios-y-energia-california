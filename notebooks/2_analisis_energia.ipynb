{
 "cells": [
  {
   "cell_type": "code",
   "execution_count": 2,
   "id": "5a3f83ca",
   "metadata": {},
   "outputs": [
    {
     "data": {
      "text/html": [
       "<div>\n",
       "<style scoped>\n",
       "    .dataframe tbody tr th:only-of-type {\n",
       "        vertical-align: middle;\n",
       "    }\n",
       "\n",
       "    .dataframe tbody tr th {\n",
       "        vertical-align: top;\n",
       "    }\n",
       "\n",
       "    .dataframe thead th {\n",
       "        text-align: right;\n",
       "    }\n",
       "</style>\n",
       "<table border=\"1\" class=\"dataframe\">\n",
       "  <thead>\n",
       "    <tr style=\"text-align: right;\">\n",
       "      <th></th>\n",
       "      <th>datetime</th>\n",
       "      <th>id</th>\n",
       "      <th>name</th>\n",
       "      <th>geoid</th>\n",
       "      <th>geoname</th>\n",
       "      <th>value</th>\n",
       "    </tr>\n",
       "  </thead>\n",
       "  <tbody>\n",
       "    <tr>\n",
       "      <th>0</th>\n",
       "      <td>2014-01-01 23:00:00</td>\n",
       "      <td>600</td>\n",
       "      <td>Precio mercado SPOT Diario ESP</td>\n",
       "      <td>3.0</td>\n",
       "      <td>España</td>\n",
       "      <td>25.280833</td>\n",
       "    </tr>\n",
       "    <tr>\n",
       "      <th>1</th>\n",
       "      <td>2014-01-02 23:00:00</td>\n",
       "      <td>600</td>\n",
       "      <td>Precio mercado SPOT Diario ESP</td>\n",
       "      <td>3.0</td>\n",
       "      <td>España</td>\n",
       "      <td>39.924167</td>\n",
       "    </tr>\n",
       "    <tr>\n",
       "      <th>2</th>\n",
       "      <td>2014-01-03 23:00:00</td>\n",
       "      <td>600</td>\n",
       "      <td>Precio mercado SPOT Diario ESP</td>\n",
       "      <td>3.0</td>\n",
       "      <td>España</td>\n",
       "      <td>4.992083</td>\n",
       "    </tr>\n",
       "    <tr>\n",
       "      <th>3</th>\n",
       "      <td>2014-01-04 23:00:00</td>\n",
       "      <td>600</td>\n",
       "      <td>Precio mercado SPOT Diario ESP</td>\n",
       "      <td>3.0</td>\n",
       "      <td>España</td>\n",
       "      <td>4.091667</td>\n",
       "    </tr>\n",
       "    <tr>\n",
       "      <th>4</th>\n",
       "      <td>2014-01-05 23:00:00</td>\n",
       "      <td>600</td>\n",
       "      <td>Precio mercado SPOT Diario ESP</td>\n",
       "      <td>3.0</td>\n",
       "      <td>España</td>\n",
       "      <td>13.587500</td>\n",
       "    </tr>\n",
       "  </tbody>\n",
       "</table>\n",
       "</div>"
      ],
      "text/plain": [
       "              datetime   id                            name  geoid geoname  \\\n",
       "0  2014-01-01 23:00:00  600  Precio mercado SPOT Diario ESP    3.0  España   \n",
       "1  2014-01-02 23:00:00  600  Precio mercado SPOT Diario ESP    3.0  España   \n",
       "2  2014-01-03 23:00:00  600  Precio mercado SPOT Diario ESP    3.0  España   \n",
       "3  2014-01-04 23:00:00  600  Precio mercado SPOT Diario ESP    3.0  España   \n",
       "4  2014-01-05 23:00:00  600  Precio mercado SPOT Diario ESP    3.0  España   \n",
       "\n",
       "       value  \n",
       "0  25.280833  \n",
       "1  39.924167  \n",
       "2   4.992083  \n",
       "3   4.091667  \n",
       "4  13.587500  "
      ]
     },
     "execution_count": 2,
     "metadata": {},
     "output_type": "execute_result"
    }
   ],
   "source": [
    "import pandas as pd\n",
    "import numpy as np\n",
    "import matplotlib.pyplot as plt\n",
    "import seaborn as sns\n",
    "\n",
    "pd.set_option('display.max_columns', None)\n",
    "sns.set(style=\"whitegrid\", palette=\"viridis\")\n",
    "\n",
    "df = pd.read_csv(\"../data/raw/spain_energy.csv\")\n",
    "\n",
    "df.head()"
   ]
  },
  {
   "cell_type": "code",
   "execution_count": 3,
   "id": "7d537318",
   "metadata": {},
   "outputs": [
    {
     "data": {
      "text/html": [
       "<div>\n",
       "<style scoped>\n",
       "    .dataframe tbody tr th:only-of-type {\n",
       "        vertical-align: middle;\n",
       "    }\n",
       "\n",
       "    .dataframe tbody tr th {\n",
       "        vertical-align: top;\n",
       "    }\n",
       "\n",
       "    .dataframe thead th {\n",
       "        text-align: right;\n",
       "    }\n",
       "</style>\n",
       "<table border=\"1\" class=\"dataframe\">\n",
       "  <thead>\n",
       "    <tr style=\"text-align: right;\">\n",
       "      <th></th>\n",
       "      <th>fecha_hora</th>\n",
       "      <th>id_registro</th>\n",
       "      <th>nombre_variable</th>\n",
       "      <th>id_geografico</th>\n",
       "      <th>nombre_region</th>\n",
       "      <th>precio_energia</th>\n",
       "    </tr>\n",
       "  </thead>\n",
       "  <tbody>\n",
       "    <tr>\n",
       "      <th>0</th>\n",
       "      <td>2014-01-01 23:00:00</td>\n",
       "      <td>600</td>\n",
       "      <td>Precio mercado SPOT Diario ESP</td>\n",
       "      <td>3.0</td>\n",
       "      <td>España</td>\n",
       "      <td>25.280833</td>\n",
       "    </tr>\n",
       "    <tr>\n",
       "      <th>1</th>\n",
       "      <td>2014-01-02 23:00:00</td>\n",
       "      <td>600</td>\n",
       "      <td>Precio mercado SPOT Diario ESP</td>\n",
       "      <td>3.0</td>\n",
       "      <td>España</td>\n",
       "      <td>39.924167</td>\n",
       "    </tr>\n",
       "    <tr>\n",
       "      <th>2</th>\n",
       "      <td>2014-01-03 23:00:00</td>\n",
       "      <td>600</td>\n",
       "      <td>Precio mercado SPOT Diario ESP</td>\n",
       "      <td>3.0</td>\n",
       "      <td>España</td>\n",
       "      <td>4.992083</td>\n",
       "    </tr>\n",
       "    <tr>\n",
       "      <th>3</th>\n",
       "      <td>2014-01-04 23:00:00</td>\n",
       "      <td>600</td>\n",
       "      <td>Precio mercado SPOT Diario ESP</td>\n",
       "      <td>3.0</td>\n",
       "      <td>España</td>\n",
       "      <td>4.091667</td>\n",
       "    </tr>\n",
       "    <tr>\n",
       "      <th>4</th>\n",
       "      <td>2014-01-05 23:00:00</td>\n",
       "      <td>600</td>\n",
       "      <td>Precio mercado SPOT Diario ESP</td>\n",
       "      <td>3.0</td>\n",
       "      <td>España</td>\n",
       "      <td>13.587500</td>\n",
       "    </tr>\n",
       "  </tbody>\n",
       "</table>\n",
       "</div>"
      ],
      "text/plain": [
       "            fecha_hora  id_registro                 nombre_variable  \\\n",
       "0  2014-01-01 23:00:00          600  Precio mercado SPOT Diario ESP   \n",
       "1  2014-01-02 23:00:00          600  Precio mercado SPOT Diario ESP   \n",
       "2  2014-01-03 23:00:00          600  Precio mercado SPOT Diario ESP   \n",
       "3  2014-01-04 23:00:00          600  Precio mercado SPOT Diario ESP   \n",
       "4  2014-01-05 23:00:00          600  Precio mercado SPOT Diario ESP   \n",
       "\n",
       "   id_geografico nombre_region  precio_energia  \n",
       "0            3.0        España       25.280833  \n",
       "1            3.0        España       39.924167  \n",
       "2            3.0        España        4.992083  \n",
       "3            3.0        España        4.091667  \n",
       "4            3.0        España       13.587500  "
      ]
     },
     "execution_count": 3,
     "metadata": {},
     "output_type": "execute_result"
    }
   ],
   "source": [
    "df.rename(columns={\n",
    "    'datetime': 'fecha_hora',\n",
    "    'id': 'id_registro',\n",
    "    'name': 'nombre_variable',\n",
    "    'geoid': 'id_geografico',\n",
    "    'geoname': 'nombre_region',\n",
    "    'value': 'precio_energia'\n",
    "}, inplace=True)\n",
    "\n",
    "df.head()"
   ]
  },
  {
   "cell_type": "code",
   "execution_count": 4,
   "id": "3caad666",
   "metadata": {},
   "outputs": [
    {
     "data": {
      "text/plain": [
       "fecha_hora             0\n",
       "id_registro            0\n",
       "nombre_variable     5478\n",
       "id_geografico      29256\n",
       "nombre_region      29256\n",
       "precio_energia         0\n",
       "dtype: int64"
      ]
     },
     "execution_count": 4,
     "metadata": {},
     "output_type": "execute_result"
    }
   ],
   "source": [
    "df.isnull().sum()"
   ]
  },
  {
   "cell_type": "code",
   "execution_count": 5,
   "id": "8d8c98bf",
   "metadata": {},
   "outputs": [
    {
     "data": {
      "text/plain": [
       "array(['Precio mercado SPOT Diario ESP', 'Precio mercado SPOT Diario FRA',\n",
       "       'Precio mercado SPOT Diario POR',\n",
       "       'Energía asignada en Mercado SPOT Diario España',\n",
       "       'Energía asignada en Mercado SPOT Diario Francia', nan,\n",
       "       'Rentas de congestión mecanismos implícitos diario Francia exportación',\n",
       "       'Rentas de congestión mecanismos implícitos diario Portugal exportación',\n",
       "       'Rentas de congestión mecanismos implícitos diario Francia importación',\n",
       "       'Rentas de congestión mecanismos implícitos diario Portugal importación',\n",
       "       'Demanda real', 'Demanda programada PBF total',\n",
       "       'Generación programada PBF total',\n",
       "       'Generación programada PBF Eólica',\n",
       "       'Generación programada PBF Ciclo combinado',\n",
       "       'Generación programada PBF Carbón',\n",
       "       'Generación programada PBF Nuclear',\n",
       "       'Generación programada PBF Gas Natural Cogeneración',\n",
       "       'Generación programada PBF UGH + no UGH',\n",
       "       'Generación programada PBF Solar fotovoltaica',\n",
       "       'Generación programada PBF Turbinación bombeo'], dtype=object)"
      ]
     },
     "execution_count": 5,
     "metadata": {},
     "output_type": "execute_result"
    }
   ],
   "source": [
    "df['nombre_variable'].unique()"
   ]
  },
  {
   "cell_type": "code",
   "execution_count": 6,
   "id": "a7e169fb",
   "metadata": {},
   "outputs": [
    {
     "data": {
      "text/plain": [
       "array([ 3.,  2.,  1., nan])"
      ]
     },
     "execution_count": 6,
     "metadata": {},
     "output_type": "execute_result"
    }
   ],
   "source": [
    "df['id_geografico'].unique()"
   ]
  },
  {
   "cell_type": "code",
   "execution_count": 7,
   "id": "40b2dc49",
   "metadata": {},
   "outputs": [
    {
     "data": {
      "text/plain": [
       "array(['España', 'Francia', 'Portugal', nan], dtype=object)"
      ]
     },
     "execution_count": 7,
     "metadata": {},
     "output_type": "execute_result"
    }
   ],
   "source": [
    "df['nombre_region'].unique()"
   ]
  },
  {
   "cell_type": "code",
   "execution_count": 8,
   "id": "4bfd39b6",
   "metadata": {},
   "outputs": [],
   "source": [
    "def inferir_region(row):\n",
    "    nombre = str(row['nombre_variable']).upper()\n",
    "    if 'ESP' in nombre:\n",
    "        return 'España'\n",
    "    elif 'FRA' in nombre:\n",
    "        return 'Francia'\n",
    "    elif 'POR' in nombre:\n",
    "        return 'Portugal'\n",
    "    else:\n",
    "        return row['nombre_region']\n",
    "\n",
    "df['nombre_region'] = df.apply(inferir_region, axis=1)"
   ]
  },
  {
   "cell_type": "code",
   "execution_count": 9,
   "id": "a981b395",
   "metadata": {},
   "outputs": [],
   "source": [
    "mapa_ids = {'España': 3.0, 'Francia': 1.0, 'Portugal': 2.0}\n",
    "df['id_geografico'] = df['nombre_region'].map(mapa_ids)\n"
   ]
  },
  {
   "cell_type": "code",
   "execution_count": 10,
   "id": "d52c880d",
   "metadata": {},
   "outputs": [],
   "source": [
    "df = df.dropna(subset=['nombre_variable'])\n"
   ]
  },
  {
   "cell_type": "code",
   "execution_count": 12,
   "id": "189c750e",
   "metadata": {},
   "outputs": [
    {
     "data": {
      "text/plain": [
       "20"
      ]
     },
     "execution_count": 12,
     "metadata": {},
     "output_type": "execute_result"
    }
   ],
   "source": [
    "df.isnull().sum()\n",
    "df['nombre_region'].value_counts()\n",
    "df['nombre_variable'].nunique()\n"
   ]
  },
  {
   "cell_type": "code",
   "execution_count": 14,
   "id": "677b1f47",
   "metadata": {},
   "outputs": [
    {
     "data": {
      "text/html": [
       "<div>\n",
       "<style scoped>\n",
       "    .dataframe tbody tr th:only-of-type {\n",
       "        vertical-align: middle;\n",
       "    }\n",
       "\n",
       "    .dataframe tbody tr th {\n",
       "        vertical-align: top;\n",
       "    }\n",
       "\n",
       "    .dataframe thead th {\n",
       "        text-align: right;\n",
       "    }\n",
       "</style>\n",
       "<table border=\"1\" class=\"dataframe\">\n",
       "  <thead>\n",
       "    <tr style=\"text-align: right;\">\n",
       "      <th>nombre_variable</th>\n",
       "      <th>Energía asignada en Mercado SPOT Diario España</th>\n",
       "      <th>Energía asignada en Mercado SPOT Diario Francia</th>\n",
       "      <th>Precio mercado SPOT Diario ESP</th>\n",
       "      <th>Precio mercado SPOT Diario FRA</th>\n",
       "      <th>Precio mercado SPOT Diario POR</th>\n",
       "      <th>Rentas de congestión mecanismos implícitos diario Francia exportación</th>\n",
       "      <th>Rentas de congestión mecanismos implícitos diario Francia importación</th>\n",
       "      <th>Rentas de congestión mecanismos implícitos diario Portugal exportación</th>\n",
       "      <th>Rentas de congestión mecanismos implícitos diario Portugal importación</th>\n",
       "    </tr>\n",
       "    <tr>\n",
       "      <th>nombre_region</th>\n",
       "      <th></th>\n",
       "      <th></th>\n",
       "      <th></th>\n",
       "      <th></th>\n",
       "      <th></th>\n",
       "      <th></th>\n",
       "      <th></th>\n",
       "      <th></th>\n",
       "      <th></th>\n",
       "    </tr>\n",
       "  </thead>\n",
       "  <tbody>\n",
       "    <tr>\n",
       "      <th>España</th>\n",
       "      <td>1826</td>\n",
       "      <td>0</td>\n",
       "      <td>1826</td>\n",
       "      <td>0</td>\n",
       "      <td>0</td>\n",
       "      <td>0</td>\n",
       "      <td>0</td>\n",
       "      <td>0</td>\n",
       "      <td>0</td>\n",
       "    </tr>\n",
       "    <tr>\n",
       "      <th>Francia</th>\n",
       "      <td>0</td>\n",
       "      <td>1826</td>\n",
       "      <td>0</td>\n",
       "      <td>1826</td>\n",
       "      <td>0</td>\n",
       "      <td>712</td>\n",
       "      <td>1619</td>\n",
       "      <td>0</td>\n",
       "      <td>0</td>\n",
       "    </tr>\n",
       "    <tr>\n",
       "      <th>Portugal</th>\n",
       "      <td>0</td>\n",
       "      <td>0</td>\n",
       "      <td>0</td>\n",
       "      <td>0</td>\n",
       "      <td>1826</td>\n",
       "      <td>0</td>\n",
       "      <td>0</td>\n",
       "      <td>1566</td>\n",
       "      <td>1664</td>\n",
       "    </tr>\n",
       "  </tbody>\n",
       "</table>\n",
       "</div>"
      ],
      "text/plain": [
       "nombre_variable  Energía asignada en Mercado SPOT Diario España  \\\n",
       "nombre_region                                                     \n",
       "España                                                     1826   \n",
       "Francia                                                       0   \n",
       "Portugal                                                      0   \n",
       "\n",
       "nombre_variable  Energía asignada en Mercado SPOT Diario Francia  \\\n",
       "nombre_region                                                      \n",
       "España                                                         0   \n",
       "Francia                                                     1826   \n",
       "Portugal                                                       0   \n",
       "\n",
       "nombre_variable  Precio mercado SPOT Diario ESP  \\\n",
       "nombre_region                                     \n",
       "España                                     1826   \n",
       "Francia                                       0   \n",
       "Portugal                                      0   \n",
       "\n",
       "nombre_variable  Precio mercado SPOT Diario FRA  \\\n",
       "nombre_region                                     \n",
       "España                                        0   \n",
       "Francia                                    1826   \n",
       "Portugal                                      0   \n",
       "\n",
       "nombre_variable  Precio mercado SPOT Diario POR  \\\n",
       "nombre_region                                     \n",
       "España                                        0   \n",
       "Francia                                       0   \n",
       "Portugal                                   1826   \n",
       "\n",
       "nombre_variable  Rentas de congestión mecanismos implícitos diario Francia exportación  \\\n",
       "nombre_region                                                                            \n",
       "España                                                           0                       \n",
       "Francia                                                        712                       \n",
       "Portugal                                                         0                       \n",
       "\n",
       "nombre_variable  Rentas de congestión mecanismos implícitos diario Francia importación  \\\n",
       "nombre_region                                                                            \n",
       "España                                                           0                       \n",
       "Francia                                                       1619                       \n",
       "Portugal                                                         0                       \n",
       "\n",
       "nombre_variable  Rentas de congestión mecanismos implícitos diario Portugal exportación  \\\n",
       "nombre_region                                                                             \n",
       "España                                                           0                        \n",
       "Francia                                                          0                        \n",
       "Portugal                                                      1566                        \n",
       "\n",
       "nombre_variable  Rentas de congestión mecanismos implícitos diario Portugal importación  \n",
       "nombre_region                                                                            \n",
       "España                                                           0                       \n",
       "Francia                                                          0                       \n",
       "Portugal                                                      1664                       "
      ]
     },
     "execution_count": 14,
     "metadata": {},
     "output_type": "execute_result"
    }
   ],
   "source": [
    "pd.crosstab(df['nombre_region'], df['nombre_variable'])\n"
   ]
  },
  {
   "cell_type": "markdown",
   "id": "fd8f2ba0",
   "metadata": {},
   "source": [
    "| País / Variable | Energía asignada                                  | Precio SPOT | Rentas de congestión                                                    |\n",
    "| --------------- | ------------------------------------------------- | ----------- | ----------------------------------------------------------------------- |\n",
    "| **España**      | 1.826 registros de energía y 1.826 de precio SPOT |             | Ninguna renta de congestión                                             |\n",
    "| **Francia**     | 1.826 registros de energía y 1.826 de precio SPOT |             | Rentas de congestión Francia exportación (712) + importación (1.619)    |\n",
    "| **Portugal**    | 1.826 registros de precio SPOT                    |             | Rentas de congestión Portugal exportación (1.566) + importación (1.664) |\n"
   ]
  },
  {
   "cell_type": "code",
   "execution_count": 16,
   "id": "ec78d510",
   "metadata": {},
   "outputs": [
    {
     "data": {
      "text/plain": [
       "('2014-01-01 23:00:00', '2018-12-31 23:00:00')"
      ]
     },
     "execution_count": 16,
     "metadata": {},
     "output_type": "execute_result"
    }
   ],
   "source": [
    "df['fecha_hora'].min(), df['fecha_hora'].max()\n"
   ]
  },
  {
   "cell_type": "code",
   "execution_count": 17,
   "id": "ec8144c5",
   "metadata": {},
   "outputs": [],
   "source": [
    "df['fecha_hora'] = pd.to_datetime(df['fecha_hora'])\n",
    "df.sort_values(by='fecha_hora', inplace=True)\n",
    "df.set_index('fecha_hora', inplace=True)"
   ]
  },
  {
   "cell_type": "code",
   "execution_count": null,
   "id": "8f6e5b4d",
   "metadata": {},
   "outputs": [],
   "source": [
    "df.index.min(), df.index.max()\n"
   ]
  }
 ],
 "metadata": {
  "kernelspec": {
   "display_name": ".venv",
   "language": "python",
   "name": "python3"
  },
  "language_info": {
   "codemirror_mode": {
    "name": "ipython",
    "version": 3
   },
   "file_extension": ".py",
   "mimetype": "text/x-python",
   "name": "python",
   "nbconvert_exporter": "python",
   "pygments_lexer": "ipython3",
   "version": "3.12.1"
  }
 },
 "nbformat": 4,
 "nbformat_minor": 5
}
